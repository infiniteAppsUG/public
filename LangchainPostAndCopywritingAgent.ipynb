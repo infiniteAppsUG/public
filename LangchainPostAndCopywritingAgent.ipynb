{
 "cells": [
  {
   "cell_type": "markdown",
   "id": "262a81db-1fdc-4b23-be2f-c611039c0612",
   "metadata": {},
   "source": [
    "# Langchain Post and Copywriting Agent\n",
    "This Agent takes a transcript from a video and creates a Blog Post and a linkedin post from it"
   ]
  },
  {
   "cell_type": "code",
   "execution_count": 1,
   "id": "0ff0e7c2-1671-4815-aa9c-89cbd7729002",
   "metadata": {},
   "outputs": [
    {
     "name": "stdout",
     "output_type": "stream",
     "text": [
      "ANTHROPIC_API_KEY: ········\n",
      "Tavily API key:\n",
      " ········\n"
     ]
    }
   ],
   "source": [
    "import os, getpass\n",
    "\n",
    "def _set_env(var:str):\n",
    "    if not os.environ.get(var):\n",
    "        os.environ[var] = getpass.getpass(f\"{var}:\")\n",
    "_set_env(\"ANTHROPIC_API_KEY\")\n",
    "if not os.environ.get(\"TAVILY_API_KEY\"):\n",
    "    os.environ[\"TAVILY_API_KEY\"] = getpass.getpass(\"Tavily API key:\\n\")"
   ]
  },
  {
   "cell_type": "code",
   "execution_count": 9,
   "id": "02a41c1e-545f-4b98-88fe-0223d49738f6",
   "metadata": {},
   "outputs": [],
   "source": [
    "# instantiate LLM \n",
    "import base64\n",
    "import anthropic\n",
    "import httpx\n",
    "from langchain_anthropic import ChatAnthropic\n",
    "\n",
    "#define model name we use\n",
    "model =\"claude-3-7-sonnet-latest\""
   ]
  },
  {
   "cell_type": "code",
   "execution_count": 10,
   "id": "1191d8e9-f72e-4dad-b3fd-4e31111ca261",
   "metadata": {},
   "outputs": [],
   "source": [
    "llm = ChatAnthropic(model=model)"
   ]
  },
  {
   "cell_type": "code",
   "execution_count": null,
   "id": "18e771e1",
   "metadata": {},
   "outputs": [],
   "source": [
    "transcript = \"\"\"\n",
    "\n",
    "HIER KOMMT DEIN TRANSKRIPT VOM VIDEO REIN\n",
    "\n",
    "\"\"\""
   ]
  },
  {
   "cell_type": "code",
   "execution_count": 12,
   "id": "c65c7eed-a2c7-4d6e-a6d9-b0d76943874d",
   "metadata": {},
   "outputs": [
    {
     "name": "stdout",
     "output_type": "stream",
     "text": [
      "Note: you may need to restart the kernel to use updated packages.\n"
     ]
    }
   ],
   "source": [
    "%pip install -qU langchain-tavily -q"
   ]
  },
  {
   "cell_type": "code",
   "execution_count": 13,
   "id": "ee222aab-2db7-4e20-8394-4082d4496333",
   "metadata": {},
   "outputs": [],
   "source": [
    "from langchain_tavily import TavilySearch\n",
    "\n",
    "tool = TavilySearch(\n",
    "    max_results=5,\n",
    "    topic=\"general\",\n",
    "    include_answer=True,\n",
    "    # include_raw_content=False,\n",
    "    # include_images=False,\n",
    "    # include_image_descriptions=False,\n",
    "    # search_depth=\"basic\",\n",
    "    # time_range=\"day\",\n",
    "    # include_domains=None,\n",
    "    # exclude_domains=None\n",
    ")"
   ]
  },
  {
   "cell_type": "code",
   "execution_count": 23,
   "id": "45d4ce9a-9d5d-4c8e-8222-67a05419313f",
   "metadata": {},
   "outputs": [],
   "source": [
    "from typing_extensions import TypedDict\n",
    "# Graph state\n",
    "class State (TypedDict):\n",
    "    transcript : str #input\n",
    "    linkedin_post : str #output\n",
    "    #blog_post: str \n",
    "    best_practices_note: str #was soll berücksichtigt werden\n",
    "    linkedin_post_quality: int #bewertungssystem\n",
    "    language: str #originalsprache des transkripts"
   ]
  },
  {
   "cell_type": "code",
   "execution_count": 19,
   "id": "97f5a579-f0d1-4e2f-ae2b-52a2a3b952b9",
   "metadata": {},
   "outputs": [],
   "source": [
    "# Nodes \n",
    "def generate_linkedin_post(state: State):\n",
    "    \"\"\"\n",
    "    Create a LinkedIn Post with emojis and matching hashtags \n",
    "    \"\"\"\n",
    "    msg = llm.invoke(f\"Create a LinkedIn Post in {state['language']} with emojis and matching hashtags about {state['transcript']} Take also into consideration what you found out in {state['best_practices_note']}\")\n",
    "    return {\"linkedin_post\": msg.content}\n",
    "\n",
    "def define_language(state: State): \n",
    "    \"\"\"\n",
    "    read part of the transcript to choose correct text language \n",
    "    \"\"\"\n",
    "    msg = llm.invoke(f\"read part of the {state['transcript']} to choose correct target language for the text. Only give back the language as word, e.g. German. No further explanation or text!\")\n",
    "    print(msg.content)\n",
    "    return {\"language\":msg.content}\n",
    "    \n",
    "\n",
    "def search_online_for_best_practices(state: State): \n",
    "    \"\"\"\n",
    "    Search for updated best practices to have always the best possible content quality in your posts\n",
    "    \"\"\"\n",
    "\n",
    "    msg = tool.invoke(\"Look for 2025 LinkedIn best-practices for written posts and save them in a note\")\n",
    "    print(msg[\"answer\"])\n",
    "    return {\"best_practices_note\": msg[\"answer\"]}\n",
    "\n",
    "def check_linkedin_post_quality(state: State) -> int: \n",
    "    \"\"\"\n",
    "    Compare the created linkedin Post with the researched best-practices and give a grade which is 0 or 1. Give 1 if it is very good match\n",
    "    \"\"\"\n",
    "    msg = llm.invoke(f\"Compare the created linkedin Post from {state['linkedin_post']} with the {state['best_practices_note']} and give a grade which is 0 or 1. Give 1 if it is very good match. Only reply the grade without explanation\")\n",
    "    print(msg.content)\n",
    "    return int(msg.content.strip())\n",
    "\n"
   ]
  },
  {
   "cell_type": "code",
   "execution_count": 28,
   "id": "5c8cb506-388b-47c4-b6d4-9d905a581f06",
   "metadata": {},
   "outputs": [
    {
     "data": {
      "image/png": "[encoded data removed]",
      "text/plain": [
       "<IPython.core.display.Image object>"
      ]
     },
     "metadata": {},
     "output_type": "display_data"
    }
   ],
   "source": [
    "# add node\n",
    "from langgraph.graph import StateGraph, START, END\n",
    "from IPython.display import Image, display\n",
    "\n",
    "# Build workflow\n",
    "workflow = StateGraph(State)\n",
    "\n",
    "# Add nodes\n",
    "workflow.add_node(\"generate_linkedin_post\",generate_linkedin_post)\n",
    "workflow.add_node(\"search_online_for_best_practices\",search_online_for_best_practices)\n",
    "workflow.add_node(\"define_language\",define_language)\n",
    "\n",
    "# Add edges\n",
    "\n",
    "workflow.add_edge(START, \"search_online_for_best_practices\")\n",
    "\n",
    "workflow.add_edge(\"search_online_for_best_practices\",\"define_language\")\n",
    "workflow.add_edge(\"define_language\",\"generate_linkedin_post\")\n",
    "\n",
    "workflow.add_conditional_edges(\"generate_linkedin_post\", check_linkedin_post_quality, {1:END, 0:\"generate_linkedin_post\"})\n",
    "workflow.add_edge(\"generate_linkedin_post\",END)\n",
    "\n",
    "\n",
    "# Compile \n",
    "chain = workflow.compile()\n",
    "\n",
    "#Show workflow\n",
    "display(Image(chain.get_graph().draw_mermaid_png()))"
   ]
  },
  {
   "cell_type": "code",
   "execution_count": 29,
   "id": "962a5307-14ee-4b07-9633-7bf3e2a79759",
   "metadata": {},
   "outputs": [
    {
     "name": "stdout",
     "output_type": "stream",
     "text": [
      "In 2025, LinkedIn best practices include authentic, focused storytelling and consistent posting. Use visuals like images and videos to boost engagement. Timing posts during peak hours increases visibility.\n",
      "The text is in German.\n",
      "1\n"
     ]
    }
   ],
   "source": [
    "state = chain.invoke({\"transcript\":transcript})"
   ]
  },
  {
   "cell_type": "code",
   "execution_count": 30,
   "id": "adef965b-73ff-45de-9725-a7902ddf498d",
   "metadata": {},
   "outputs": [
    {
     "name": "stdout",
     "output_type": "stream",
     "text": [
      "# 🚀 KI und Agentensysteme: Aus einem Video vielfältigen Content generieren! \n",
      "\n",
      "Hallo liebe LinkedIn-Community! 📊\n",
      "\n",
      "Heute möchte ich euch zeigen, wie ihr mit Hilfe von KI und Agentensystemen aus EINEM Video mehrere Content-Formate automatisch erstellen könnt - ich nenne es den \"AI Multiplikator\" 🔄\n",
      "\n",
      "In meinem neuesten Video erkläre ich, wie ihr aus euren YouTube-Videos oder anderen Aufnahmen vollautomatisch Content für verschiedene Plattformen wie LinkedIn oder Blogposts generieren könnt.\n",
      "\n",
      "Der Prozess ist einfach:\n",
      "1️⃣ Video aufnehmen (mit automatischem Transkript)\n",
      "2️⃣ Transkript als Input für KI-Modelle nutzen\n",
      "3️⃣ Plattformspezifischen Content generieren lassen\n",
      "\n",
      "Besonders für uns Unternehmer und Selbstständige mit knapper Zeit ist diese Methode Gold wert! Ihr behaltet die persönliche Note eures Contents, während die KI die Aufbereitung für verschiedene Plattformen übernimmt.\n",
      "\n",
      "Im Video zeige ich euch auch, wie ich mit LangChain und Agentenfunktionen einen Post-Generator gebaut habe, der:\n",
      "- Best Practices recherchiert\n",
      "- Die Sprache des Videos erkennt\n",
      "- Optimierten Content erstellt\n",
      "- Die Qualität überprüft\n",
      "\n",
      "Schaut unbedingt rein und entdeckt, wie ihr mit minimaler Zeitinvestition maximale Content-Vielfalt erreichen könnt!\n",
      "\n",
      "Habt ihr schon ähnliche Workflows für eure Content-Erstellung? Teilt eure Erfahrungen in den Kommentaren! 💬\n",
      "\n",
      "#KIContent #ContentMultiplikation #AgentSystems #DigitaleEffizienz #ContentCreation #AutomatisierungImMarketing #KITools #LangChain #UnternehmerTipps #ZeitManagement\n"
     ]
    }
   ],
   "source": [
    "print(state[\"linkedin_post\"])"
   ]
  }
 ],
 "metadata": {
  "kernelspec": {
   "display_name": "Python ML env",
   "language": "python",
   "name": "machinelearningenv"
  },
  "language_info": {
   "codemirror_mode": {
    "name": "ipython",
    "version": 3
   },
   "file_extension": ".py",
   "mimetype": "text/x-python",
   "name": "python",
   "nbconvert_exporter": "python",
   "pygments_lexer": "ipython3",
   "version": "3.13.0"
  }
 },
 "nbformat": 4,
 "nbformat_minor": 5
}
